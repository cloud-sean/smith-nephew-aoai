{
 "cells": [
  {
   "cell_type": "code",
   "execution_count": 94,
   "metadata": {},
   "outputs": [
    {
     "name": "stdout",
     "output_type": "stream",
     "text": [
      "Running Chroma using direct local API.\n",
      "Using DuckDB in-memory for database. Data will be transient.\n",
      "Exiting: Cleaning up .chroma directory\n"
     ]
    },
    {
     "data": {
      "text/plain": [
       "True"
      ]
     },
     "execution_count": 94,
     "metadata": {},
     "output_type": "execute_result"
    }
   ],
   "source": [
    "# create a client for the chroma vector store locally\n",
    "import chromadb\n",
    "chroma_client = chromadb.Client()\n",
    "chroma_client.reset()\n"
   ]
  },
  {
   "cell_type": "code",
   "execution_count": 95,
   "metadata": {},
   "outputs": [],
   "source": [
    "import os, openai\n",
    "os.environ[\"OPENAI_API_TYPE\"] = openai.api_type = \"azure\"\n",
    "os.environ[\"OPENAI_API_VERSION\"] = openai.api_version = \"2022-12-01\"\n",
    "os.environ[\"OPENAI_API_BASE\"] = openai.api_base = \"https://openai-endpoint.openai.azure.com/\"\n",
    "os.environ[\"OPENAI_API_KEY\"] = openai.api_key = \"f056ead909e54ea0a2fb570e2febad2b\""
   ]
  },
  {
   "cell_type": "code",
   "execution_count": 96,
   "metadata": {},
   "outputs": [],
   "source": [
    "# define a function that will be used to embed documents when they are entered into the vector store\n",
    "from chromadb.utils import embedding_functions\n",
    "openai_ef = embedding_functions.OpenAIEmbeddingFunction(\n",
    "                api_key=os.environ[\"OPENAI_API_KEY\"],\n",
    "                model_name=\"text-embedding-ada-002\"\n",
    "            )"
   ]
  },
  {
   "cell_type": "code",
   "execution_count": 97,
   "metadata": {},
   "outputs": [
    {
     "name": "stderr",
     "output_type": "stream",
     "text": [
      "Exception ignored in: <function DuckDB.__del__ at 0x11dea4b80>\n",
      "Traceback (most recent call last):\n",
      "  File \"/Users/sean/Documents/code/smith-nephew-aoai-demo/venv/lib/python3.9/site-packages/chromadb/db/duckdb.py\", line 346, in __del__\n",
      "    self._idx.reset()\n",
      "AttributeError: 'DuckDB' object has no attribute '_idx'\n"
     ]
    },
    {
     "name": "stdout",
     "output_type": "stream",
     "text": [
      "Exiting: Cleaning up .chroma directory\n"
     ]
    }
   ],
   "source": [
    "# we are going to use the directory loader which will leverage a local version of Unstructured-io\n",
    "from langchain.document_loaders import DirectoryLoader\n",
    "loader = DirectoryLoader('data/', glob=\"**/*.pdf\")\n",
    "docs = loader.load()\n"
   ]
  },
  {
   "cell_type": "code",
   "execution_count": 98,
   "metadata": {},
   "outputs": [
    {
     "data": {
      "text/plain": [
       "3"
      ]
     },
     "execution_count": 98,
     "metadata": {},
     "output_type": "execute_result"
    }
   ],
   "source": [
    "# check all the documents that were loaded\n",
    "len(docs)"
   ]
  },
  {
   "cell_type": "code",
   "execution_count": 99,
   "metadata": {},
   "outputs": [],
   "source": [
    "#split every document into chunks \n",
    "from langchain.text_splitter import CharacterTextSplitter\n",
    "text_splitter = CharacterTextSplitter(chunk_size=1000, chunk_overlap=200)\n",
    "texts = text_splitter.split_documents(docs)"
   ]
  },
  {
   "cell_type": "code",
   "execution_count": 100,
   "metadata": {},
   "outputs": [
    {
     "name": "stderr",
     "output_type": "stream",
     "text": [
      "100%|██████████| 62/62 [00:14<00:00,  4.39it/s]\n"
     ]
    }
   ],
   "source": [
    "#generate embeddings for each chunk\n",
    "import time, tqdm\n",
    "embeddings = []\n",
    "\n",
    "for text in tqdm.tqdm(texts):\n",
    "    try:\n",
    "        response = openai.Embedding.create(\n",
    "            input=text.page_content,\n",
    "            engine=\"text-embedding-ada-002\")\n",
    "        emb = response['data'][0]['embedding']\n",
    "        embeddings.append(emb)\n",
    "    except Exception as e:\n",
    "        time.sleep(8)\n",
    "        response = openai.Embedding.create(\n",
    "            input=text.page_content,\n",
    "            engine=\"text-embedding-ada-002\")\n",
    "        emb = response['data'][0]['embedding']\n",
    "        embeddings.append(emb)"
   ]
  },
  {
   "cell_type": "code",
   "execution_count": 101,
   "metadata": {},
   "outputs": [
    {
     "name": "stdout",
     "output_type": "stream",
     "text": [
      "Running Chroma using direct local API.\n",
      "Using DuckDB in-memory for database. Data will be transient.\n",
      "Exiting: Cleaning up .chroma directory\n"
     ]
    }
   ],
   "source": [
    "from langchain.embeddings.openai import OpenAIEmbeddings\n",
    "from langchain.vectorstores import Chroma\n",
    "\n",
    "# initialize the vector store and create a openai embedding function\n",
    "azure_embeddings = OpenAIEmbeddings(document_model_name=\"text-embedding-ada-002\",query_model_name=\"text-embedding-ada-002\")\n",
    "vectorstore = Chroma(\"my_collection\", embedding_function=azure_embeddings)"
   ]
  },
  {
   "cell_type": "code",
   "execution_count": 102,
   "metadata": {},
   "outputs": [],
   "source": [
    "# add the documents to the vector store\n",
    "vectorstore._collection.add(\n",
    "    ids= [f\"doc_{i}\" for i in range(len(texts))],\n",
    "    documents=[texts[i].page_content for i in range(len(texts))],\n",
    "    embeddings=embeddings,\n",
    "    metadatas=[text.metadata for text in texts]\n",
    ")"
   ]
  },
  {
   "cell_type": "code",
   "execution_count": 103,
   "metadata": {},
   "outputs": [],
   "source": [
    "from langchain import VectorDBQAWithSourcesChain\n",
    "from langchain.llms import AzureOpenAI\n",
    "\n",
    "#initialize our chain\n",
    "\n",
    "chain = VectorDBQAWithSourcesChain.from_chain_type(llm=AzureOpenAI(deployment_name=\"davinci003\", model_name=\"text-davinci-003\"), chain_type=\"stuff\", vectorstore=vectorstore)\n"
   ]
  },
  {
   "cell_type": "code",
   "execution_count": 104,
   "metadata": {},
   "outputs": [],
   "source": [
    "def return_answer(question):\n",
    "    answer = chain({'question': question}, return_only_outputs=True)\n",
    "    answer = f\"\"\"{answer['answer']}\\n\\n source: \"\"\"\n",
    "    return answer"
   ]
  },
  {
   "cell_type": "code",
   "execution_count": 105,
   "metadata": {},
   "outputs": [
    {
     "name": "stdout",
     "output_type": "stream",
     "text": [
      "Running on local URL:  http://127.0.0.1:7887\n",
      "\n",
      "To create a public link, set `share=True` in `launch()`.\n"
     ]
    },
    {
     "data": {
      "text/html": [
       "<div><iframe src=\"http://127.0.0.1:7887/\" width=\"100%\" height=\"500\" allow=\"autoplay; camera; microphone; clipboard-read; clipboard-write;\" frameborder=\"0\" allowfullscreen></iframe></div>"
      ],
      "text/plain": [
       "<IPython.core.display.HTML object>"
      ]
     },
     "metadata": {},
     "output_type": "display_data"
    },
    {
     "data": {
      "text/plain": []
     },
     "execution_count": 105,
     "metadata": {},
     "output_type": "execute_result"
    },
    {
     "name": "stderr",
     "output_type": "stream",
     "text": [
      "Traceback (most recent call last):\n",
      "  File \"/Users/sean/Documents/code/smith-nephew-aoai-demo/venv/lib/python3.9/site-packages/gradio/routes.py\", line 384, in run_predict\n",
      "    output = await app.get_blocks().process_api(\n",
      "  File \"/Users/sean/Documents/code/smith-nephew-aoai-demo/venv/lib/python3.9/site-packages/gradio/blocks.py\", line 1024, in process_api\n",
      "    result = await self.call_function(\n",
      "  File \"/Users/sean/Documents/code/smith-nephew-aoai-demo/venv/lib/python3.9/site-packages/gradio/blocks.py\", line 836, in call_function\n",
      "    prediction = await anyio.to_thread.run_sync(\n",
      "  File \"/Users/sean/Documents/code/smith-nephew-aoai-demo/venv/lib/python3.9/site-packages/anyio/to_thread.py\", line 31, in run_sync\n",
      "    return await get_asynclib().run_sync_in_worker_thread(\n",
      "  File \"/Users/sean/Documents/code/smith-nephew-aoai-demo/venv/lib/python3.9/site-packages/anyio/_backends/_asyncio.py\", line 937, in run_sync_in_worker_thread\n",
      "    return await future\n",
      "  File \"/Users/sean/Documents/code/smith-nephew-aoai-demo/venv/lib/python3.9/site-packages/anyio/_backends/_asyncio.py\", line 867, in run\n",
      "    result = context.run(func, *args)\n",
      "  File \"/var/folders/vb/dmwldm611xjdhknz3yc7ggyc0000gn/T/ipykernel_67410/2452082394.py\", line 3, in return_answer\n",
      "    answer = f\"\"\"{answer['answer']}\\n\\n source: {answer['source']}\"\"\"\n",
      "KeyError: 'source'\n"
     ]
    }
   ],
   "source": [
    "with gr.Blocks() as demo:\n",
    "    text = gr.Textbox(show_label=False, placeholder=\"Enter text and press enter\").style(container=False)\n",
    "    answerbox = gr.Textbox(show_label=False, placeholder=\"Answer\").style(container=False)\n",
    "    text.submit(return_answer, inputs=[text], outputs=[answerbox])\n",
    "demo.launch()"
   ]
  }
 ],
 "metadata": {
  "kernelspec": {
   "display_name": "venv",
   "language": "python",
   "name": "python3"
  },
  "language_info": {
   "codemirror_mode": {
    "name": "ipython",
    "version": 3
   },
   "file_extension": ".py",
   "mimetype": "text/x-python",
   "name": "python",
   "nbconvert_exporter": "python",
   "pygments_lexer": "ipython3",
   "version": "3.9.6"
  },
  "orig_nbformat": 4,
  "vscode": {
   "interpreter": {
    "hash": "54cb3a929f2c087f813f65eaef6c4237043491f4fb056630746c8f68ea06fe11"
   }
  }
 },
 "nbformat": 4,
 "nbformat_minor": 2
}
